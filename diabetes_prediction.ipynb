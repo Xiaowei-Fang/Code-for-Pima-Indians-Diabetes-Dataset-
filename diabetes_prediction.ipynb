{
  "cells": [
    {
      "cell_type": "markdown",
      "id": "5d3b2330",
      "metadata": {
        "papermill": {
          "duration": 0.025946,
          "end_time": "2024-03-09T02:39:12.106159",
          "exception": false,
          "start_time": "2024-03-09T02:39:12.080213",
          "status": "completed"
        },
        "tags": [],
        "id": "5d3b2330"
      },
      "source": [
        "<div style=\"background-color: #4CAF50; padding: 10px; border-radius: 5px;\">\n",
        "    <p style=\"color: black; font-size: 16px; font-weight: bold;\">\n",
        "       1. Import Libraries\n",
        "    </p>\n",
        "</div>\n"
      ]
    },
    {
      "cell_type": "code",
      "execution_count": 85,
      "id": "952a15b6",
      "metadata": {
        "execution": {
          "iopub.execute_input": "2024-03-09T02:39:12.161992Z",
          "iopub.status.busy": "2024-03-09T02:39:12.161068Z",
          "iopub.status.idle": "2024-03-09T02:39:17.613657Z",
          "shell.execute_reply": "2024-03-09T02:39:17.612485Z"
        },
        "papermill": {
          "duration": 5.483901,
          "end_time": "2024-03-09T02:39:17.616812",
          "exception": false,
          "start_time": "2024-03-09T02:39:12.132911",
          "status": "completed"
        },
        "tags": [],
        "id": "952a15b6"
      },
      "outputs": [],
      "source": [
        "import pandas as pd\n",
        "import numpy as np\n",
        "import matplotlib.pyplot as plt\n",
        "import seaborn as sns\n",
        "%matplotlib inline\n",
        "from imblearn.over_sampling import SMOTE\n",
        "from sklearn.preprocessing import MinMaxScaler\n",
        "from sklearn.preprocessing import RobustScaler, StandardScaler\n",
        "from scipy import stats\n",
        "\n",
        "from sklearn.model_selection import train_test_split\n",
        "from sklearn.ensemble import ExtraTreesClassifier\n",
        "from sklearn.svm import SVC\n",
        "from sklearn.model_selection import RandomizedSearchCV\n",
        "from sklearn.metrics import accuracy_score, confusion_matrix, classification_report\n",
        "import warnings\n",
        "warnings.filterwarnings ('ignore')\n"
      ]
    },
    {
      "cell_type": "markdown",
      "id": "36f0748e",
      "metadata": {
        "papermill": {
          "duration": 0.02731,
          "end_time": "2024-03-09T02:39:17.672118",
          "exception": false,
          "start_time": "2024-03-09T02:39:17.644808",
          "status": "completed"
        },
        "tags": [],
        "id": "36f0748e"
      },
      "source": [
        "<div style=\"background-color: #4CAF50; padding: 10px; border-radius: 5px;\">\n",
        "    <p style=\"color: black; font-size: 16px; font-weight: bold;\">\n",
        "      2.  Load Data\n",
        "    </p>\n",
        "</div>\n"
      ]
    },
    {
      "cell_type": "code",
      "execution_count": 86,
      "id": "ebecab68",
      "metadata": {
        "execution": {
          "iopub.execute_input": "2024-03-09T02:39:17.729970Z",
          "iopub.status.busy": "2024-03-09T02:39:17.729346Z",
          "iopub.status.idle": "2024-03-09T02:39:17.751518Z",
          "shell.execute_reply": "2024-03-09T02:39:17.750363Z"
        },
        "papermill": {
          "duration": 0.054698,
          "end_time": "2024-03-09T02:39:17.754825",
          "exception": false,
          "start_time": "2024-03-09T02:39:17.700127",
          "status": "completed"
        },
        "tags": [],
        "id": "ebecab68"
      },
      "outputs": [],
      "source": [
        "df = pd.read_csv('/content/diabetes.csv')"
      ]
    },
    {
      "cell_type": "code",
      "execution_count": 87,
      "id": "b39118b0",
      "metadata": {
        "execution": {
          "iopub.execute_input": "2024-03-09T02:39:17.811991Z",
          "iopub.status.busy": "2024-03-09T02:39:17.811202Z",
          "iopub.status.idle": "2024-03-09T02:39:17.835415Z",
          "shell.execute_reply": "2024-03-09T02:39:17.833920Z"
        },
        "papermill": {
          "duration": 0.055938,
          "end_time": "2024-03-09T02:39:17.838349",
          "exception": false,
          "start_time": "2024-03-09T02:39:17.782411",
          "status": "completed"
        },
        "tags": [],
        "colab": {
          "base_uri": "https://localhost:8080/",
          "height": 206
        },
        "id": "b39118b0",
        "outputId": "f293ce06-6e69-4533-b77f-744b248fe185"
      },
      "outputs": [
        {
          "output_type": "execute_result",
          "data": {
            "text/plain": [
              "   Pregnancies  Glucose  BloodPressure  SkinThickness  Insulin   BMI  \\\n",
              "0            6      148             72             35        0  33.6   \n",
              "1            1       85             66             29        0  26.6   \n",
              "2            8      183             64              0        0  23.3   \n",
              "3            1       89             66             23       94  28.1   \n",
              "4            0      137             40             35      168  43.1   \n",
              "\n",
              "   DiabetesPedigreeFunction  Age  Outcome  \n",
              "0                     0.627   50        1  \n",
              "1                     0.351   31        0  \n",
              "2                     0.672   32        1  \n",
              "3                     0.167   21        0  \n",
              "4                     2.288   33        1  "
            ],
            "text/html": [
              "\n",
              "  <div id=\"df-de57fb19-cb05-441c-a0ef-376dc03c50db\" class=\"colab-df-container\">\n",
              "    <div>\n",
              "<style scoped>\n",
              "    .dataframe tbody tr th:only-of-type {\n",
              "        vertical-align: middle;\n",
              "    }\n",
              "\n",
              "    .dataframe tbody tr th {\n",
              "        vertical-align: top;\n",
              "    }\n",
              "\n",
              "    .dataframe thead th {\n",
              "        text-align: right;\n",
              "    }\n",
              "</style>\n",
              "<table border=\"1\" class=\"dataframe\">\n",
              "  <thead>\n",
              "    <tr style=\"text-align: right;\">\n",
              "      <th></th>\n",
              "      <th>Pregnancies</th>\n",
              "      <th>Glucose</th>\n",
              "      <th>BloodPressure</th>\n",
              "      <th>SkinThickness</th>\n",
              "      <th>Insulin</th>\n",
              "      <th>BMI</th>\n",
              "      <th>DiabetesPedigreeFunction</th>\n",
              "      <th>Age</th>\n",
              "      <th>Outcome</th>\n",
              "    </tr>\n",
              "  </thead>\n",
              "  <tbody>\n",
              "    <tr>\n",
              "      <th>0</th>\n",
              "      <td>6</td>\n",
              "      <td>148</td>\n",
              "      <td>72</td>\n",
              "      <td>35</td>\n",
              "      <td>0</td>\n",
              "      <td>33.6</td>\n",
              "      <td>0.627</td>\n",
              "      <td>50</td>\n",
              "      <td>1</td>\n",
              "    </tr>\n",
              "    <tr>\n",
              "      <th>1</th>\n",
              "      <td>1</td>\n",
              "      <td>85</td>\n",
              "      <td>66</td>\n",
              "      <td>29</td>\n",
              "      <td>0</td>\n",
              "      <td>26.6</td>\n",
              "      <td>0.351</td>\n",
              "      <td>31</td>\n",
              "      <td>0</td>\n",
              "    </tr>\n",
              "    <tr>\n",
              "      <th>2</th>\n",
              "      <td>8</td>\n",
              "      <td>183</td>\n",
              "      <td>64</td>\n",
              "      <td>0</td>\n",
              "      <td>0</td>\n",
              "      <td>23.3</td>\n",
              "      <td>0.672</td>\n",
              "      <td>32</td>\n",
              "      <td>1</td>\n",
              "    </tr>\n",
              "    <tr>\n",
              "      <th>3</th>\n",
              "      <td>1</td>\n",
              "      <td>89</td>\n",
              "      <td>66</td>\n",
              "      <td>23</td>\n",
              "      <td>94</td>\n",
              "      <td>28.1</td>\n",
              "      <td>0.167</td>\n",
              "      <td>21</td>\n",
              "      <td>0</td>\n",
              "    </tr>\n",
              "    <tr>\n",
              "      <th>4</th>\n",
              "      <td>0</td>\n",
              "      <td>137</td>\n",
              "      <td>40</td>\n",
              "      <td>35</td>\n",
              "      <td>168</td>\n",
              "      <td>43.1</td>\n",
              "      <td>2.288</td>\n",
              "      <td>33</td>\n",
              "      <td>1</td>\n",
              "    </tr>\n",
              "  </tbody>\n",
              "</table>\n",
              "</div>\n",
              "    <div class=\"colab-df-buttons\">\n",
              "\n",
              "  <div class=\"colab-df-container\">\n",
              "    <button class=\"colab-df-convert\" onclick=\"convertToInteractive('df-de57fb19-cb05-441c-a0ef-376dc03c50db')\"\n",
              "            title=\"Convert this dataframe to an interactive table.\"\n",
              "            style=\"display:none;\">\n",
              "\n",
              "  <svg xmlns=\"http://www.w3.org/2000/svg\" height=\"24px\" viewBox=\"0 -960 960 960\">\n",
              "    <path d=\"M120-120v-720h720v720H120Zm60-500h600v-160H180v160Zm220 220h160v-160H400v160Zm0 220h160v-160H400v160ZM180-400h160v-160H180v160Zm440 0h160v-160H620v160ZM180-180h160v-160H180v160Zm440 0h160v-160H620v160Z\"/>\n",
              "  </svg>\n",
              "    </button>\n",
              "\n",
              "  <style>\n",
              "    .colab-df-container {\n",
              "      display:flex;\n",
              "      gap: 12px;\n",
              "    }\n",
              "\n",
              "    .colab-df-convert {\n",
              "      background-color: #E8F0FE;\n",
              "      border: none;\n",
              "      border-radius: 50%;\n",
              "      cursor: pointer;\n",
              "      display: none;\n",
              "      fill: #1967D2;\n",
              "      height: 32px;\n",
              "      padding: 0 0 0 0;\n",
              "      width: 32px;\n",
              "    }\n",
              "\n",
              "    .colab-df-convert:hover {\n",
              "      background-color: #E2EBFA;\n",
              "      box-shadow: 0px 1px 2px rgba(60, 64, 67, 0.3), 0px 1px 3px 1px rgba(60, 64, 67, 0.15);\n",
              "      fill: #174EA6;\n",
              "    }\n",
              "\n",
              "    .colab-df-buttons div {\n",
              "      margin-bottom: 4px;\n",
              "    }\n",
              "\n",
              "    [theme=dark] .colab-df-convert {\n",
              "      background-color: #3B4455;\n",
              "      fill: #D2E3FC;\n",
              "    }\n",
              "\n",
              "    [theme=dark] .colab-df-convert:hover {\n",
              "      background-color: #434B5C;\n",
              "      box-shadow: 0px 1px 3px 1px rgba(0, 0, 0, 0.15);\n",
              "      filter: drop-shadow(0px 1px 2px rgba(0, 0, 0, 0.3));\n",
              "      fill: #FFFFFF;\n",
              "    }\n",
              "  </style>\n",
              "\n",
              "    <script>\n",
              "      const buttonEl =\n",
              "        document.querySelector('#df-de57fb19-cb05-441c-a0ef-376dc03c50db button.colab-df-convert');\n",
              "      buttonEl.style.display =\n",
              "        google.colab.kernel.accessAllowed ? 'block' : 'none';\n",
              "\n",
              "      async function convertToInteractive(key) {\n",
              "        const element = document.querySelector('#df-de57fb19-cb05-441c-a0ef-376dc03c50db');\n",
              "        const dataTable =\n",
              "          await google.colab.kernel.invokeFunction('convertToInteractive',\n",
              "                                                    [key], {});\n",
              "        if (!dataTable) return;\n",
              "\n",
              "        const docLinkHtml = 'Like what you see? Visit the ' +\n",
              "          '<a target=\"_blank\" href=https://colab.research.google.com/notebooks/data_table.ipynb>data table notebook</a>'\n",
              "          + ' to learn more about interactive tables.';\n",
              "        element.innerHTML = '';\n",
              "        dataTable['output_type'] = 'display_data';\n",
              "        await google.colab.output.renderOutput(dataTable, element);\n",
              "        const docLink = document.createElement('div');\n",
              "        docLink.innerHTML = docLinkHtml;\n",
              "        element.appendChild(docLink);\n",
              "      }\n",
              "    </script>\n",
              "  </div>\n",
              "\n",
              "\n",
              "    <div id=\"df-92307e47-1d62-488f-8ca7-25ae8c703298\">\n",
              "      <button class=\"colab-df-quickchart\" onclick=\"quickchart('df-92307e47-1d62-488f-8ca7-25ae8c703298')\"\n",
              "                title=\"Suggest charts\"\n",
              "                style=\"display:none;\">\n",
              "\n",
              "<svg xmlns=\"http://www.w3.org/2000/svg\" height=\"24px\"viewBox=\"0 0 24 24\"\n",
              "     width=\"24px\">\n",
              "    <g>\n",
              "        <path d=\"M19 3H5c-1.1 0-2 .9-2 2v14c0 1.1.9 2 2 2h14c1.1 0 2-.9 2-2V5c0-1.1-.9-2-2-2zM9 17H7v-7h2v7zm4 0h-2V7h2v10zm4 0h-2v-4h2v4z\"/>\n",
              "    </g>\n",
              "</svg>\n",
              "      </button>\n",
              "\n",
              "<style>\n",
              "  .colab-df-quickchart {\n",
              "      --bg-color: #E8F0FE;\n",
              "      --fill-color: #1967D2;\n",
              "      --hover-bg-color: #E2EBFA;\n",
              "      --hover-fill-color: #174EA6;\n",
              "      --disabled-fill-color: #AAA;\n",
              "      --disabled-bg-color: #DDD;\n",
              "  }\n",
              "\n",
              "  [theme=dark] .colab-df-quickchart {\n",
              "      --bg-color: #3B4455;\n",
              "      --fill-color: #D2E3FC;\n",
              "      --hover-bg-color: #434B5C;\n",
              "      --hover-fill-color: #FFFFFF;\n",
              "      --disabled-bg-color: #3B4455;\n",
              "      --disabled-fill-color: #666;\n",
              "  }\n",
              "\n",
              "  .colab-df-quickchart {\n",
              "    background-color: var(--bg-color);\n",
              "    border: none;\n",
              "    border-radius: 50%;\n",
              "    cursor: pointer;\n",
              "    display: none;\n",
              "    fill: var(--fill-color);\n",
              "    height: 32px;\n",
              "    padding: 0;\n",
              "    width: 32px;\n",
              "  }\n",
              "\n",
              "  .colab-df-quickchart:hover {\n",
              "    background-color: var(--hover-bg-color);\n",
              "    box-shadow: 0 1px 2px rgba(60, 64, 67, 0.3), 0 1px 3px 1px rgba(60, 64, 67, 0.15);\n",
              "    fill: var(--button-hover-fill-color);\n",
              "  }\n",
              "\n",
              "  .colab-df-quickchart-complete:disabled,\n",
              "  .colab-df-quickchart-complete:disabled:hover {\n",
              "    background-color: var(--disabled-bg-color);\n",
              "    fill: var(--disabled-fill-color);\n",
              "    box-shadow: none;\n",
              "  }\n",
              "\n",
              "  .colab-df-spinner {\n",
              "    border: 2px solid var(--fill-color);\n",
              "    border-color: transparent;\n",
              "    border-bottom-color: var(--fill-color);\n",
              "    animation:\n",
              "      spin 1s steps(1) infinite;\n",
              "  }\n",
              "\n",
              "  @keyframes spin {\n",
              "    0% {\n",
              "      border-color: transparent;\n",
              "      border-bottom-color: var(--fill-color);\n",
              "      border-left-color: var(--fill-color);\n",
              "    }\n",
              "    20% {\n",
              "      border-color: transparent;\n",
              "      border-left-color: var(--fill-color);\n",
              "      border-top-color: var(--fill-color);\n",
              "    }\n",
              "    30% {\n",
              "      border-color: transparent;\n",
              "      border-left-color: var(--fill-color);\n",
              "      border-top-color: var(--fill-color);\n",
              "      border-right-color: var(--fill-color);\n",
              "    }\n",
              "    40% {\n",
              "      border-color: transparent;\n",
              "      border-right-color: var(--fill-color);\n",
              "      border-top-color: var(--fill-color);\n",
              "    }\n",
              "    60% {\n",
              "      border-color: transparent;\n",
              "      border-right-color: var(--fill-color);\n",
              "    }\n",
              "    80% {\n",
              "      border-color: transparent;\n",
              "      border-right-color: var(--fill-color);\n",
              "      border-bottom-color: var(--fill-color);\n",
              "    }\n",
              "    90% {\n",
              "      border-color: transparent;\n",
              "      border-bottom-color: var(--fill-color);\n",
              "    }\n",
              "  }\n",
              "</style>\n",
              "\n",
              "      <script>\n",
              "        async function quickchart(key) {\n",
              "          const quickchartButtonEl =\n",
              "            document.querySelector('#' + key + ' button');\n",
              "          quickchartButtonEl.disabled = true;  // To prevent multiple clicks.\n",
              "          quickchartButtonEl.classList.add('colab-df-spinner');\n",
              "          try {\n",
              "            const charts = await google.colab.kernel.invokeFunction(\n",
              "                'suggestCharts', [key], {});\n",
              "          } catch (error) {\n",
              "            console.error('Error during call to suggestCharts:', error);\n",
              "          }\n",
              "          quickchartButtonEl.classList.remove('colab-df-spinner');\n",
              "          quickchartButtonEl.classList.add('colab-df-quickchart-complete');\n",
              "        }\n",
              "        (() => {\n",
              "          let quickchartButtonEl =\n",
              "            document.querySelector('#df-92307e47-1d62-488f-8ca7-25ae8c703298 button');\n",
              "          quickchartButtonEl.style.display =\n",
              "            google.colab.kernel.accessAllowed ? 'block' : 'none';\n",
              "        })();\n",
              "      </script>\n",
              "    </div>\n",
              "\n",
              "    </div>\n",
              "  </div>\n"
            ],
            "application/vnd.google.colaboratory.intrinsic+json": {
              "type": "dataframe",
              "variable_name": "df",
              "summary": "{\n  \"name\": \"df\",\n  \"rows\": 768,\n  \"fields\": [\n    {\n      \"column\": \"Pregnancies\",\n      \"properties\": {\n        \"dtype\": \"number\",\n        \"std\": 3,\n        \"min\": 0,\n        \"max\": 17,\n        \"num_unique_values\": 17,\n        \"samples\": [\n          6,\n          1,\n          3\n        ],\n        \"semantic_type\": \"\",\n        \"description\": \"\"\n      }\n    },\n    {\n      \"column\": \"Glucose\",\n      \"properties\": {\n        \"dtype\": \"number\",\n        \"std\": 31,\n        \"min\": 0,\n        \"max\": 199,\n        \"num_unique_values\": 136,\n        \"samples\": [\n          151,\n          101,\n          112\n        ],\n        \"semantic_type\": \"\",\n        \"description\": \"\"\n      }\n    },\n    {\n      \"column\": \"BloodPressure\",\n      \"properties\": {\n        \"dtype\": \"number\",\n        \"std\": 19,\n        \"min\": 0,\n        \"max\": 122,\n        \"num_unique_values\": 47,\n        \"samples\": [\n          86,\n          46,\n          85\n        ],\n        \"semantic_type\": \"\",\n        \"description\": \"\"\n      }\n    },\n    {\n      \"column\": \"SkinThickness\",\n      \"properties\": {\n        \"dtype\": \"number\",\n        \"std\": 15,\n        \"min\": 0,\n        \"max\": 99,\n        \"num_unique_values\": 51,\n        \"samples\": [\n          7,\n          12,\n          48\n        ],\n        \"semantic_type\": \"\",\n        \"description\": \"\"\n      }\n    },\n    {\n      \"column\": \"Insulin\",\n      \"properties\": {\n        \"dtype\": \"number\",\n        \"std\": 115,\n        \"min\": 0,\n        \"max\": 846,\n        \"num_unique_values\": 186,\n        \"samples\": [\n          52,\n          41,\n          183\n        ],\n        \"semantic_type\": \"\",\n        \"description\": \"\"\n      }\n    },\n    {\n      \"column\": \"BMI\",\n      \"properties\": {\n        \"dtype\": \"number\",\n        \"std\": 7.8841603203754405,\n        \"min\": 0.0,\n        \"max\": 67.1,\n        \"num_unique_values\": 248,\n        \"samples\": [\n          19.9,\n          31.0,\n          38.1\n        ],\n        \"semantic_type\": \"\",\n        \"description\": \"\"\n      }\n    },\n    {\n      \"column\": \"DiabetesPedigreeFunction\",\n      \"properties\": {\n        \"dtype\": \"number\",\n        \"std\": 0.33132859501277484,\n        \"min\": 0.078,\n        \"max\": 2.42,\n        \"num_unique_values\": 517,\n        \"samples\": [\n          1.731,\n          0.426,\n          0.138\n        ],\n        \"semantic_type\": \"\",\n        \"description\": \"\"\n      }\n    },\n    {\n      \"column\": \"Age\",\n      \"properties\": {\n        \"dtype\": \"number\",\n        \"std\": 11,\n        \"min\": 21,\n        \"max\": 81,\n        \"num_unique_values\": 52,\n        \"samples\": [\n          60,\n          47,\n          72\n        ],\n        \"semantic_type\": \"\",\n        \"description\": \"\"\n      }\n    },\n    {\n      \"column\": \"Outcome\",\n      \"properties\": {\n        \"dtype\": \"number\",\n        \"std\": 0,\n        \"min\": 0,\n        \"max\": 1,\n        \"num_unique_values\": 2,\n        \"samples\": [\n          0,\n          1\n        ],\n        \"semantic_type\": \"\",\n        \"description\": \"\"\n      }\n    }\n  ]\n}"
            }
          },
          "metadata": {},
          "execution_count": 87
        }
      ],
      "source": [
        "df.head(5)"
      ]
    },
    {
      "cell_type": "code",
      "execution_count": 88,
      "id": "64fa748e",
      "metadata": {
        "execution": {
          "iopub.execute_input": "2024-03-09T02:39:19.502228Z",
          "iopub.status.busy": "2024-03-09T02:39:19.501740Z",
          "iopub.status.idle": "2024-03-09T02:39:19.511207Z",
          "shell.execute_reply": "2024-03-09T02:39:19.510253Z"
        },
        "papermill": {
          "duration": 0.043878,
          "end_time": "2024-03-09T02:39:19.515033",
          "exception": false,
          "start_time": "2024-03-09T02:39:19.471155",
          "status": "completed"
        },
        "tags": [],
        "colab": {
          "base_uri": "https://localhost:8080/"
        },
        "id": "64fa748e",
        "outputId": "78c47bad-a2ad-4649-de26-016456ab32e0"
      },
      "outputs": [
        {
          "output_type": "stream",
          "name": "stdout",
          "text": [
            "Pregnancies: 17 distinct values\n",
            "Glucose: 136 distinct values\n",
            "BloodPressure: 47 distinct values\n",
            "SkinThickness: 51 distinct values\n",
            "Insulin: 186 distinct values\n",
            "BMI: 248 distinct values\n",
            "DiabetesPedigreeFunction: 517 distinct values\n",
            "Age: 52 distinct values\n",
            "Outcome: 2 distinct values\n"
          ]
        }
      ],
      "source": [
        "for column in df.columns:\n",
        "    num_distinct_values = len(df[column].unique())\n",
        "    print(f\"{column}: {num_distinct_values} distinct values\")"
      ]
    },
    {
      "cell_type": "code",
      "execution_count": 89,
      "id": "4815d10b",
      "metadata": {
        "execution": {
          "iopub.execute_input": "2024-03-09T02:39:19.576072Z",
          "iopub.status.busy": "2024-03-09T02:39:19.574838Z",
          "iopub.status.idle": "2024-03-09T02:39:19.582462Z",
          "shell.execute_reply": "2024-03-09T02:39:19.581316Z"
        },
        "papermill": {
          "duration": 0.040968,
          "end_time": "2024-03-09T02:39:19.584967",
          "exception": false,
          "start_time": "2024-03-09T02:39:19.543999",
          "status": "completed"
        },
        "tags": [],
        "colab": {
          "base_uri": "https://localhost:8080/"
        },
        "id": "4815d10b",
        "outputId": "ed25f9b0-956a-4a31-c502-b5512269eabf"
      },
      "outputs": [
        {
          "output_type": "execute_result",
          "data": {
            "text/plain": [
              "Index(['Pregnancies', 'Glucose', 'BloodPressure', 'SkinThickness', 'Insulin',\n",
              "       'BMI', 'DiabetesPedigreeFunction', 'Age', 'Outcome'],\n",
              "      dtype='object')"
            ]
          },
          "metadata": {},
          "execution_count": 89
        }
      ],
      "source": [
        "df.columns"
      ]
    },
    {
      "cell_type": "markdown",
      "source": [
        "preprocessing"
      ],
      "metadata": {
        "id": "zkibByHnP8nc"
      },
      "id": "zkibByHnP8nc"
    },
    {
      "cell_type": "code",
      "execution_count": 90,
      "id": "8c57f55d",
      "metadata": {
        "execution": {
          "iopub.execute_input": "2024-03-09T02:39:28.993230Z",
          "iopub.status.busy": "2024-03-09T02:39:28.992731Z",
          "iopub.status.idle": "2024-03-09T02:39:28.998701Z",
          "shell.execute_reply": "2024-03-09T02:39:28.997498Z"
        },
        "papermill": {
          "duration": 0.054165,
          "end_time": "2024-03-09T02:39:29.001250",
          "exception": false,
          "start_time": "2024-03-09T02:39:28.947085",
          "status": "completed"
        },
        "tags": [],
        "id": "8c57f55d"
      },
      "outputs": [],
      "source": [
        "df1 = df.copy()"
      ]
    },
    {
      "cell_type": "code",
      "execution_count": 91,
      "id": "ffb9f042",
      "metadata": {
        "execution": {
          "iopub.execute_input": "2024-03-09T02:39:29.090328Z",
          "iopub.status.busy": "2024-03-09T02:39:29.089791Z",
          "iopub.status.idle": "2024-03-09T02:39:29.101378Z",
          "shell.execute_reply": "2024-03-09T02:39:29.099895Z"
        },
        "papermill": {
          "duration": 0.060022,
          "end_time": "2024-03-09T02:39:29.104686",
          "exception": false,
          "start_time": "2024-03-09T02:39:29.044664",
          "status": "completed"
        },
        "tags": [],
        "colab": {
          "base_uri": "https://localhost:8080/"
        },
        "id": "ffb9f042",
        "outputId": "f33d2d9b-cd7e-4158-d947-de18787cd6d9"
      },
      "outputs": [
        {
          "output_type": "stream",
          "name": "stdout",
          "text": [
            "Pregnancies                 111\n",
            "Glucose                       5\n",
            "BloodPressure                35\n",
            "SkinThickness               227\n",
            "Insulin                     374\n",
            "BMI                          11\n",
            "DiabetesPedigreeFunction      0\n",
            "Age                           0\n",
            "Outcome                     500\n",
            "dtype: int64\n"
          ]
        }
      ],
      "source": [
        "#chaeck 0 value\n",
        "numeric_columns = df1.select_dtypes(include=['int', 'float']).columns\n",
        "\n",
        "zero_counts = df1[numeric_columns].eq(0).sum()\n",
        "\n",
        "print(zero_counts)"
      ]
    },
    {
      "cell_type": "code",
      "execution_count": 92,
      "id": "b02ddb46",
      "metadata": {
        "execution": {
          "iopub.execute_input": "2024-03-09T02:39:29.282247Z",
          "iopub.status.busy": "2024-03-09T02:39:29.281429Z",
          "iopub.status.idle": "2024-03-09T02:39:29.304292Z",
          "shell.execute_reply": "2024-03-09T02:39:29.303047Z"
        },
        "papermill": {
          "duration": 0.072057,
          "end_time": "2024-03-09T02:39:29.307287",
          "exception": false,
          "start_time": "2024-03-09T02:39:29.235230",
          "status": "completed"
        },
        "tags": [],
        "id": "b02ddb46"
      },
      "outputs": [],
      "source": [
        "columns_non_nol = ['Glucose', 'BloodPressure', 'SkinThickness', 'Insulin', 'BMI']\n",
        "\n",
        "df1[columns_non_nol] = df1[columns_non_nol].replace(0, pd.NA)\n",
        "\n",
        "for column in columns_non_nol:\n",
        "    median_value = df1[column].median()\n",
        "    df1[column].fillna(median_value, inplace=True)\n",
        "\n"
      ]
    },
    {
      "cell_type": "markdown",
      "id": "177e38a7",
      "metadata": {
        "papermill": {
          "duration": 0.045684,
          "end_time": "2024-03-09T02:39:34.882987",
          "exception": false,
          "start_time": "2024-03-09T02:39:34.837303",
          "status": "completed"
        },
        "tags": [],
        "id": "177e38a7"
      },
      "source": [
        "<div style=\"background-color: #4CAF50; padding: 10px; border-radius: 5px;\">\n",
        "    <p style=\"color: black; font-size: 16px; font-weight: bold;\">\n",
        "       Normalization Data\n",
        "    </p>\n",
        "</div>\n"
      ]
    },
    {
      "cell_type": "code",
      "execution_count": 93,
      "id": "d2bc9b25",
      "metadata": {
        "execution": {
          "iopub.execute_input": "2024-03-09T02:39:34.978678Z",
          "iopub.status.busy": "2024-03-09T02:39:34.978228Z",
          "iopub.status.idle": "2024-03-09T02:39:35.011746Z",
          "shell.execute_reply": "2024-03-09T02:39:35.010610Z"
        },
        "papermill": {
          "duration": 0.085488,
          "end_time": "2024-03-09T02:39:35.015519",
          "exception": false,
          "start_time": "2024-03-09T02:39:34.930031",
          "status": "completed"
        },
        "tags": [],
        "colab": {
          "base_uri": "https://localhost:8080/"
        },
        "id": "d2bc9b25",
        "outputId": "92001770-f844-4116-aab6-ebb0f78768a3"
      },
      "outputs": [
        {
          "output_type": "stream",
          "name": "stdout",
          "text": [
            "Number of outliers in Pregnancies: 4\n",
            "Number of outliers in Glucose: 0\n",
            "Number of outliers in BloodPressure: 14\n",
            "Number of outliers in SkinThickness: 87\n",
            "Number of outliers in Insulin: 346\n",
            "Number of outliers in BMI: 8\n",
            "Number of outliers in DiabetesPedigreeFunction: 29\n",
            "Number of outliers in Age: 9\n"
          ]
        }
      ],
      "source": [
        "features_to_scale_robust = ['Pregnancies', 'Glucose', 'BloodPressure', 'SkinThickness', 'Insulin',\n",
        "       'BMI', 'DiabetesPedigreeFunction', 'Age']\n",
        "\n",
        "\n",
        "robust_scaler = RobustScaler()\n",
        "\n",
        "df1[features_to_scale_robust] = robust_scaler.fit_transform(df1[features_to_scale_robust])\n",
        "\n",
        "def count_outliers(series):\n",
        "    Q1 = series.quantile(0.25)\n",
        "    Q3 = series.quantile(0.75)\n",
        "    IQR = Q3 - Q1\n",
        "    lower_bound = Q1 - 1.5 * IQR\n",
        "    upper_bound = Q3 + 1.5 * IQR\n",
        "    return ((series < lower_bound) | (series > upper_bound)).sum()\n",
        "\n",
        "for feature in features_to_scale_robust:\n",
        "    num_outliers = count_outliers(df1[feature])\n",
        "    print(f'Number of outliers in {feature}: {num_outliers}')"
      ]
    },
    {
      "cell_type": "code",
      "execution_count": 94,
      "id": "8aa66645",
      "metadata": {
        "execution": {
          "iopub.execute_input": "2024-03-09T02:39:35.109283Z",
          "iopub.status.busy": "2024-03-09T02:39:35.108519Z",
          "iopub.status.idle": "2024-03-09T02:39:35.119609Z",
          "shell.execute_reply": "2024-03-09T02:39:35.118466Z"
        },
        "papermill": {
          "duration": 0.060974,
          "end_time": "2024-03-09T02:39:35.122494",
          "exception": false,
          "start_time": "2024-03-09T02:39:35.061520",
          "status": "completed"
        },
        "tags": [],
        "id": "8aa66645"
      },
      "outputs": [],
      "source": [
        "scaler = StandardScaler()\n",
        "\n",
        "df1[features_to_scale_robust] = scaler.fit_transform(df1[features_to_scale_robust])"
      ]
    },
    {
      "cell_type": "code",
      "execution_count": 95,
      "id": "dac4086e",
      "metadata": {
        "execution": {
          "iopub.execute_input": "2024-03-09T02:39:35.217176Z",
          "iopub.status.busy": "2024-03-09T02:39:35.216444Z",
          "iopub.status.idle": "2024-03-09T02:39:35.222799Z",
          "shell.execute_reply": "2024-03-09T02:39:35.221999Z"
        },
        "papermill": {
          "duration": 0.055608,
          "end_time": "2024-03-09T02:39:35.225219",
          "exception": false,
          "start_time": "2024-03-09T02:39:35.169611",
          "status": "completed"
        },
        "tags": [],
        "id": "dac4086e"
      },
      "outputs": [],
      "source": [
        "X = df1.drop(['Outcome'], axis=1)\n",
        "y = df1['Outcome']"
      ]
    },
    {
      "cell_type": "code",
      "execution_count": 96,
      "id": "10659cf7",
      "metadata": {
        "execution": {
          "iopub.execute_input": "2024-03-09T02:39:35.323125Z",
          "iopub.status.busy": "2024-03-09T02:39:35.322261Z",
          "iopub.status.idle": "2024-03-09T02:39:35.342922Z",
          "shell.execute_reply": "2024-03-09T02:39:35.341338Z"
        },
        "papermill": {
          "duration": 0.075243,
          "end_time": "2024-03-09T02:39:35.346190",
          "exception": false,
          "start_time": "2024-03-09T02:39:35.270947",
          "status": "completed"
        },
        "tags": [],
        "id": "10659cf7"
      },
      "outputs": [],
      "source": [
        "scaler = MinMaxScaler(feature_range=(0, 1))\n",
        "X_scaled = pd.DataFrame(scaler.fit_transform(X), columns=X.columns)\n",
        "\n",
        "smote = SMOTE(random_state=42)\n",
        "X_resampled, y_resampled = smote.fit_resample(X_scaled, y)"
      ]
    },
    {
      "cell_type": "markdown",
      "id": "2cf2086b",
      "metadata": {
        "papermill": {
          "duration": 0.04757,
          "end_time": "2024-03-09T02:39:35.586885",
          "exception": false,
          "start_time": "2024-03-09T02:39:35.539315",
          "status": "completed"
        },
        "tags": [],
        "id": "2cf2086b"
      },
      "source": [
        "\n",
        " <div style=\"background-color: #4CAF50; padding: 10px; border-radius: 5px;\">\n",
        "    <p style=\"color: black; font-size: 16px; font-weight: bold;\">\n",
        "         Testing  Data\n",
        "    </p>\n",
        "</div>\n"
      ]
    },
    {
      "cell_type": "code",
      "execution_count": 97,
      "id": "6b5aebcc",
      "metadata": {
        "execution": {
          "iopub.execute_input": "2024-03-09T02:39:35.686872Z",
          "iopub.status.busy": "2024-03-09T02:39:35.685929Z",
          "iopub.status.idle": "2024-03-09T02:39:37.803540Z",
          "shell.execute_reply": "2024-03-09T02:39:37.802561Z"
        },
        "papermill": {
          "duration": 2.172244,
          "end_time": "2024-03-09T02:39:37.806903",
          "exception": false,
          "start_time": "2024-03-09T02:39:35.634659",
          "status": "completed"
        },
        "tags": [],
        "id": "6b5aebcc"
      },
      "outputs": [],
      "source": [
        "def hypothesis_testing(df, column1, column2):\n",
        "    t_stat, p_val = stats.ttest_ind(df[column1], df[column2])\n",
        "\n",
        "columns_for_testing = ['Pregnancies', 'Glucose', 'BloodPressure', 'SkinThickness', 'Insulin',\n",
        "       'BMI', 'DiabetesPedigreeFunction', 'Age']\n",
        "\n",
        "for i in range(len(columns_for_testing) - 1):\n",
        "    hypothesis_testing(df1, columns_for_testing[i], columns_for_testing[i + 1])\n"
      ]
    },
    {
      "cell_type": "code",
      "execution_count": 98,
      "id": "9b573a26",
      "metadata": {
        "execution": {
          "iopub.execute_input": "2024-03-09T02:39:38.022723Z",
          "iopub.status.busy": "2024-03-09T02:39:38.022313Z",
          "iopub.status.idle": "2024-03-09T02:39:38.030695Z",
          "shell.execute_reply": "2024-03-09T02:39:38.029595Z"
        },
        "papermill": {
          "duration": 0.066822,
          "end_time": "2024-03-09T02:39:38.033590",
          "exception": false,
          "start_time": "2024-03-09T02:39:37.966768",
          "status": "completed"
        },
        "tags": [],
        "id": "9b573a26"
      },
      "outputs": [],
      "source": [
        "X_train, X_test, y_train, y_test = train_test_split(X_resampled, y_resampled, test_size=0.2, random_state=42)\n"
      ]
    },
    {
      "cell_type": "markdown",
      "id": "be66d6f4",
      "metadata": {
        "papermill": {
          "duration": 0.050642,
          "end_time": "2024-03-09T02:39:38.135791",
          "exception": false,
          "start_time": "2024-03-09T02:39:38.085149",
          "status": "completed"
        },
        "tags": [],
        "id": "be66d6f4"
      },
      "source": [
        "<div style=\"background-color: #4CAF50; padding: 10px; border-radius: 5px;\">\n",
        "    <p style=\"color: black; font-size: 16px; font-weight: bold;\">\n",
        "     5.  Modeling\n",
        "    </p>\n",
        "</div>\n"
      ]
    },
    {
      "cell_type": "markdown",
      "id": "616d5eae",
      "metadata": {
        "papermill": {
          "duration": 0.050562,
          "end_time": "2024-03-09T02:39:38.237847",
          "exception": false,
          "start_time": "2024-03-09T02:39:38.187285",
          "status": "completed"
        },
        "tags": [],
        "id": "616d5eae"
      },
      "source": [
        "<div style=\"background-color: #4CAF50; padding: 10px; border-radius: 5px;\">\n",
        "    <p style=\"color: black; font-size: 16px; font-weight: bold;\">\n",
        "        SVC\n",
        "    </p>\n",
        "</div>\n"
      ]
    },
    {
      "cell_type": "code",
      "execution_count": 101,
      "id": "701b98dd",
      "metadata": {
        "execution": {
          "iopub.execute_input": "2024-03-09T02:39:38.342620Z",
          "iopub.status.busy": "2024-03-09T02:39:38.342247Z",
          "iopub.status.idle": "2024-03-09T02:39:42.075672Z",
          "shell.execute_reply": "2024-03-09T02:39:42.073687Z"
        },
        "papermill": {
          "duration": 3.790143,
          "end_time": "2024-03-09T02:39:42.078623",
          "exception": false,
          "start_time": "2024-03-09T02:39:38.288480",
          "status": "completed"
        },
        "tags": [],
        "colab": {
          "base_uri": "https://localhost:8080/"
        },
        "id": "701b98dd",
        "outputId": "7ff141c4-cdfc-4b0a-848b-8f5342c011fe"
      },
      "outputs": [
        {
          "output_type": "stream",
          "name": "stdout",
          "text": [
            "Best Hyperparameters: {'kernel': 'poly', 'gamma': 'scale', 'C': 10}\n",
            "\n",
            "Confusion Matrix for SVM:\n",
            "[[75 24]\n",
            " [15 86]]\n",
            "\n",
            "Accuracy of Support Vector Classifier: 80.5 \n",
            "\n",
            "Classification Report:\n",
            "              precision    recall  f1-score   support\n",
            "\n",
            "           0       0.83      0.76      0.79        99\n",
            "           1       0.78      0.85      0.82       101\n",
            "\n",
            "    accuracy                           0.81       200\n",
            "   macro avg       0.81      0.80      0.80       200\n",
            "weighted avg       0.81      0.81      0.80       200\n",
            "\n"
          ]
        }
      ],
      "source": [
        "param_dist = {\n",
        "    'C': [0.1, 1, 10, 100],\n",
        "    'kernel': ['linear', 'rbf', 'poly'],\n",
        "    'gamma': ['scale', 'auto', 0.1, 1],\n",
        "}\n",
        "\n",
        "svc = SVC()\n",
        "\n",
        "randomized_search = RandomizedSearchCV(svc, param_distributions=param_dist, n_iter=10, cv=5, scoring='accuracy', random_state=42, n_jobs=-1)\n",
        "\n",
        "randomized_search.fit(X_train, y_train)\n",
        "\n",
        "best_params = randomized_search.best_params_\n",
        "print(f\"Best Hyperparameters: {best_params}\")\n",
        "\n",
        "best_svc_model = randomized_search.best_estimator_\n",
        "svc_predicted = best_svc_model.predict(X_test)\n",
        "\n",
        "svc_acc_score = accuracy_score(y_test, svc_predicted)\n",
        "svc_conf_matrix = confusion_matrix(y_test, svc_predicted)\n",
        "\n",
        "print(\"\\nConfusion Matrix for SVM:\")\n",
        "print(svc_conf_matrix)\n",
        "print(\"\\nAccuracy of Support Vector Classifier:\", svc_acc_score * 100, '\\n')\n",
        "print(\"Classification Report:\")\n",
        "print(classification_report(y_test, svc_predicted))"
      ]
    },
    {
      "cell_type": "markdown",
      "id": "43a8b296",
      "metadata": {
        "papermill": {
          "duration": 0.051826,
          "end_time": "2024-03-09T02:39:42.181170",
          "exception": false,
          "start_time": "2024-03-09T02:39:42.129344",
          "status": "completed"
        },
        "tags": [],
        "id": "43a8b296"
      },
      "source": [
        "<div style=\"background-color: #4CAF50; padding: 10px; border-radius: 5px;\">\n",
        "    <p style=\"color: black; font-size: 16px; font-weight: bold;\">\n",
        "       Extra Trees Clasifier\n",
        "    </p>\n",
        "</div>\n"
      ]
    },
    {
      "cell_type": "code",
      "execution_count": 100,
      "id": "201fb374",
      "metadata": {
        "execution": {
          "iopub.execute_input": "2024-03-09T02:39:42.286778Z",
          "iopub.status.busy": "2024-03-09T02:39:42.286278Z",
          "iopub.status.idle": "2024-03-09T02:39:50.698475Z",
          "shell.execute_reply": "2024-03-09T02:39:50.696520Z"
        },
        "papermill": {
          "duration": 8.469395,
          "end_time": "2024-03-09T02:39:50.701678",
          "exception": false,
          "start_time": "2024-03-09T02:39:42.232283",
          "status": "completed"
        },
        "tags": [],
        "colab": {
          "base_uri": "https://localhost:8080/"
        },
        "id": "201fb374",
        "outputId": "b2a613a0-2568-4fbf-d61f-a55d4a3b7bc1"
      },
      "outputs": [
        {
          "output_type": "stream",
          "name": "stdout",
          "text": [
            "Best Hyperparameters for Extra Trees Classifier: {'n_estimators': 50, 'min_samples_split': 5, 'min_samples_leaf': 1, 'max_depth': 30, 'criterion': 'gini', 'bootstrap': False}\n",
            "\n",
            "Confusion Matrix for Extra Trees Classifier:\n",
            "[[74 25]\n",
            " [11 90]]\n",
            "\n",
            "Accuracy of Extra Trees Classifier: 82.0 \n",
            "\n",
            "Classification Report for Extra Trees Classifier:\n",
            "              precision    recall  f1-score   support\n",
            "\n",
            "           0       0.87      0.75      0.80        99\n",
            "           1       0.78      0.89      0.83       101\n",
            "\n",
            "    accuracy                           0.82       200\n",
            "   macro avg       0.83      0.82      0.82       200\n",
            "weighted avg       0.83      0.82      0.82       200\n",
            "\n"
          ]
        }
      ],
      "source": [
        "param_dist_et = {\n",
        "    'n_estimators': [50, 100, 200, 300],\n",
        "    'max_depth': [None, 10, 20, 30],\n",
        "    'min_samples_split': [2, 5, 10],\n",
        "    'min_samples_leaf': [1, 2, 4],\n",
        "    'bootstrap': [True, False],\n",
        "    'criterion': ['gini', 'entropy'],\n",
        "}\n",
        "\n",
        "et = ExtraTreesClassifier()\n",
        "\n",
        "randomized_search_et = RandomizedSearchCV(\n",
        "    et,\n",
        "    param_distributions=param_dist_et,\n",
        "    n_iter=10,\n",
        "    cv=5,\n",
        "    scoring='accuracy',\n",
        "    random_state=42,\n",
        "    n_jobs=-1\n",
        ")\n",
        "\n",
        "randomized_search_et.fit(X_train, y_train)\n",
        "\n",
        "best_params_et = randomized_search_et.best_params_\n",
        "print(f\"Best Hyperparameters for Extra Trees Classifier: {best_params_et}\")\n",
        "\n",
        "best_et_model = randomized_search_et.best_estimator_\n",
        "\n",
        "et_predicted = best_et_model.predict(X_test)\n",
        "\n",
        "et_acc_score = accuracy_score(y_test, et_predicted)\n",
        "\n",
        "et_conf_matrix = confusion_matrix(y_test, et_predicted)\n",
        "\n",
        "\n",
        "\n",
        "print(\"\\nConfusion Matrix for Extra Trees Classifier:\")\n",
        "print(et_conf_matrix)\n",
        "print(\"\\nAccuracy of Extra Trees Classifier:\", et_acc_score * 100, '\\n')\n",
        "print(\"Classification Report for Extra Trees Classifier:\")\n",
        "print(classification_report(y_test, et_predicted))\n"
      ]
    }
  ],
  "metadata": {
    "kaggle": {
      "accelerator": "none",
      "dataSources": [
        {
          "datasetId": 2527538,
          "sourceId": 4289678,
          "sourceType": "datasetVersion"
        }
      ],
      "dockerImageVersionId": 30646,
      "isGpuEnabled": false,
      "isInternetEnabled": true,
      "language": "python",
      "sourceType": "notebook"
    },
    "kernelspec": {
      "display_name": "Python 3",
      "language": "python",
      "name": "python3"
    },
    "language_info": {
      "codemirror_mode": {
        "name": "ipython",
        "version": 3
      },
      "file_extension": ".py",
      "mimetype": "text/x-python",
      "name": "python",
      "nbconvert_exporter": "python",
      "pygments_lexer": "ipython3",
      "version": "3.10.13"
    },
    "papermill": {
      "default_parameters": {},
      "duration": 64.197149,
      "end_time": "2024-03-09T02:40:12.815726",
      "environment_variables": {},
      "exception": null,
      "input_path": "__notebook__.ipynb",
      "output_path": "__notebook__.ipynb",
      "parameters": {},
      "start_time": "2024-03-09T02:39:08.618577",
      "version": "2.5.0"
    },
    "colab": {
      "provenance": [],
      "toc_visible": true
    }
  },
  "nbformat": 4,
  "nbformat_minor": 5
}